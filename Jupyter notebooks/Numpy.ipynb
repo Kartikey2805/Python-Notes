{
 "cells": [
  {
   "cell_type": "code",
   "execution_count": 1,
   "id": "616b609a-07ef-4c9c-9832-4e8d7d50306d",
   "metadata": {},
   "outputs": [],
   "source": [
    "import numpy as np"
   ]
  },
  {
   "cell_type": "code",
   "execution_count": 8,
   "id": "74bc8410-fb37-4805-a378-7127672f8789",
   "metadata": {},
   "outputs": [],
   "source": [
    "integers = np.array([1,2,3,4,5])"
   ]
  },
  {
   "cell_type": "code",
   "execution_count": 10,
   "id": "9420074b-5a9d-4093-92d6-6355a2d5b00a",
   "metadata": {},
   "outputs": [
    {
     "data": {
      "text/plain": [
       "array([1, 2, 3, 4, 5])"
      ]
     },
     "execution_count": 10,
     "metadata": {},
     "output_type": "execute_result"
    }
   ],
   "source": [
    "integers"
   ]
  },
  {
   "cell_type": "code",
   "execution_count": 11,
   "id": "82358638-2f37-45e9-9cc6-bced111302ed",
   "metadata": {},
   "outputs": [
    {
     "data": {
      "text/plain": [
       "1"
      ]
     },
     "execution_count": 11,
     "metadata": {},
     "output_type": "execute_result"
    }
   ],
   "source": [
    "integers[0]"
   ]
  },
  {
   "cell_type": "code",
   "execution_count": 12,
   "id": "8de18799-07bb-4d71-953c-1bd32ef6925e",
   "metadata": {},
   "outputs": [],
   "source": [
    "integers[0] = 10"
   ]
  },
  {
   "cell_type": "code",
   "execution_count": 13,
   "id": "d8d7012c-c2fa-4b54-89b6-089491e71b5c",
   "metadata": {},
   "outputs": [
    {
     "data": {
      "text/plain": [
       "array([10,  2,  3,  4,  5])"
      ]
     },
     "execution_count": 13,
     "metadata": {},
     "output_type": "execute_result"
    }
   ],
   "source": [
    "integers"
   ]
  },
  {
   "cell_type": "code",
   "execution_count": 14,
   "id": "3517721d-3887-4ea3-b1ee-54107c0ab033",
   "metadata": {},
   "outputs": [],
   "source": [
    "integers[0] = 10.2"
   ]
  },
  {
   "cell_type": "code",
   "execution_count": 16,
   "id": "1e7cce46-81e8-4bed-982c-66e799949f31",
   "metadata": {},
   "outputs": [
    {
     "data": {
      "text/plain": [
       "array([10,  2,  3,  4,  5])"
      ]
     },
     "execution_count": 16,
     "metadata": {},
     "output_type": "execute_result"
    }
   ],
   "source": [
    "integers"
   ]
  },
  {
   "cell_type": "code",
   "execution_count": 17,
   "id": "37032565-e317-4406-97f3-494f559a2360",
   "metadata": {},
   "outputs": [
    {
     "data": {
      "text/plain": [
       "dtype('int32')"
      ]
     },
     "execution_count": 17,
     "metadata": {},
     "output_type": "execute_result"
    }
   ],
   "source": [
    "integers.dtype"
   ]
  },
  {
   "cell_type": "code",
   "execution_count": 19,
   "id": "654fbd5d-456d-47b6-856f-8d335f0bffa6",
   "metadata": {},
   "outputs": [
    {
     "data": {
      "text/plain": [
       "2147483648"
      ]
     },
     "execution_count": 19,
     "metadata": {},
     "output_type": "execute_result"
    }
   ],
   "source": [
    "2 ** 31"
   ]
  },
  {
   "cell_type": "code",
   "execution_count": 20,
   "id": "890da7a2-3abc-476a-aad6-c9ebe3fd2191",
   "metadata": {},
   "outputs": [],
   "source": [
    "smallerIntegers = np.array([1,2,3,4,5],dtype = 'int8')"
   ]
  },
  {
   "cell_type": "code",
   "execution_count": 24,
   "id": "7aca929e-d7e0-4588-8edd-bd9b34cda4a2",
   "metadata": {},
   "outputs": [
    {
     "data": {
      "text/plain": [
       "array([1, 2, 3, 4, 5], dtype=int8)"
      ]
     },
     "execution_count": 24,
     "metadata": {},
     "output_type": "execute_result"
    }
   ],
   "source": [
    "smallerIntegers"
   ]
  },
  {
   "cell_type": "code",
   "execution_count": 25,
   "id": "26c06adf-817c-46d4-9e49-350e16d16bb2",
   "metadata": {},
   "outputs": [
    {
     "data": {
      "text/plain": [
       "1"
      ]
     },
     "execution_count": 25,
     "metadata": {},
     "output_type": "execute_result"
    }
   ],
   "source": [
    "smallerIntegers[0]"
   ]
  },
  {
   "cell_type": "code",
   "execution_count": 26,
   "id": "31eb354e-11e8-47a8-87b0-57b308f1251b",
   "metadata": {},
   "outputs": [
    {
     "data": {
      "text/plain": [
       "20"
      ]
     },
     "execution_count": 26,
     "metadata": {},
     "output_type": "execute_result"
    }
   ],
   "source": [
    "integers.nbytes"
   ]
  },
  {
   "cell_type": "code",
   "execution_count": 27,
   "id": "d2595893-142c-45a0-b448-504554ebfbe3",
   "metadata": {},
   "outputs": [
    {
     "data": {
      "text/plain": [
       "5"
      ]
     },
     "execution_count": 27,
     "metadata": {},
     "output_type": "execute_result"
    }
   ],
   "source": [
    "smallerIntegers.nbytes"
   ]
  },
  {
   "cell_type": "markdown",
   "id": "9f3fcf11-2cc2-4f5c-ab75-0314f792834b",
   "metadata": {},
   "source": [
    "# Multi dimensional arrays"
   ]
  },
  {
   "cell_type": "code",
   "execution_count": 32,
   "id": "fa88c104-5569-4252-b470-3c16057a6885",
   "metadata": {},
   "outputs": [],
   "source": [
    "multi = np.array([[1,2,3],[4,5,6]])"
   ]
  },
  {
   "cell_type": "code",
   "execution_count": 33,
   "id": "c46f3b83-23a9-42f4-9ef7-411a91e3753b",
   "metadata": {},
   "outputs": [
    {
     "data": {
      "text/plain": [
       "array([[1, 2, 3],\n",
       "       [4, 5, 6]])"
      ]
     },
     "execution_count": 33,
     "metadata": {},
     "output_type": "execute_result"
    }
   ],
   "source": [
    "multi"
   ]
  },
  {
   "cell_type": "code",
   "execution_count": 35,
   "id": "13a97454-7e5f-42e2-ba79-fda74919bf91",
   "metadata": {},
   "outputs": [
    {
     "data": {
      "text/plain": [
       "1"
      ]
     },
     "execution_count": 35,
     "metadata": {},
     "output_type": "execute_result"
    }
   ],
   "source": [
    "multi[0][0]"
   ]
  },
  {
   "cell_type": "markdown",
   "id": "44980c6e-c2bd-4d04-b0f5-d9d3a61b9a65",
   "metadata": {},
   "source": [
    "# number of dimensions"
   ]
  },
  {
   "cell_type": "code",
   "execution_count": 36,
   "id": "930a8124-9cd9-491c-b9d6-fb1ff537b581",
   "metadata": {},
   "outputs": [
    {
     "data": {
      "text/plain": [
       "2"
      ]
     },
     "execution_count": 36,
     "metadata": {},
     "output_type": "execute_result"
    }
   ],
   "source": [
    "multi.ndim"
   ]
  },
  {
   "cell_type": "markdown",
   "id": "57e9ed4c-f118-47e1-8cff-976881ec230f",
   "metadata": {},
   "source": [
    "# Creating numpy arrays from python lists and other python structures"
   ]
  },
  {
   "cell_type": "code",
   "execution_count": 37,
   "id": "8eb901c1-47e5-4377-82b8-2be3715afcf7",
   "metadata": {},
   "outputs": [],
   "source": [
    "l = [1,2,3,4,5]"
   ]
  },
  {
   "cell_type": "code",
   "execution_count": 38,
   "id": "c6ec4eae-5ca7-4267-b70d-47ab8294c08b",
   "metadata": {},
   "outputs": [],
   "source": [
    "nums = np.array(l)"
   ]
  },
  {
   "cell_type": "code",
   "execution_count": 39,
   "id": "c3ca2861-9479-4d2b-9975-a8fb8bbc97a3",
   "metadata": {},
   "outputs": [
    {
     "data": {
      "text/plain": [
       "array([1, 2, 3, 4, 5])"
      ]
     },
     "execution_count": 39,
     "metadata": {},
     "output_type": "execute_result"
    }
   ],
   "source": [
    "nums"
   ]
  },
  {
   "cell_type": "markdown",
   "id": "b4d2526f-7dbb-4fbb-82e9-64894a03438d",
   "metadata": {},
   "source": [
    "# below list contains all the diff data types in one single list"
   ]
  },
  {
   "cell_type": "code",
   "execution_count": 41,
   "id": "2a9ce1c2-3fab-4e1c-92d8-6d076e43011d",
   "metadata": {},
   "outputs": [],
   "source": [
    "arr = [1,\"Hello\",12.5,False]"
   ]
  },
  {
   "cell_type": "code",
   "execution_count": 42,
   "id": "af1baa7b-8399-4d80-abc8-b10650acf49d",
   "metadata": {},
   "outputs": [],
   "source": [
    "narr = np.array(arr)"
   ]
  },
  {
   "cell_type": "code",
   "execution_count": 43,
   "id": "1a9a424b-fa6a-43f0-a493-b939d18217f0",
   "metadata": {},
   "outputs": [
    {
     "data": {
      "text/plain": [
       "array(['1', 'Hello', '12.5', 'False'], dtype='<U32')"
      ]
     },
     "execution_count": 43,
     "metadata": {},
     "output_type": "execute_result"
    }
   ],
   "source": [
    "# All the elements are converted to string type\n",
    "narr"
   ]
  },
  {
   "cell_type": "code",
   "execution_count": 44,
   "id": "efcbabc8-5dfd-49fb-9564-70703821c85f",
   "metadata": {},
   "outputs": [],
   "source": [
    "tuple = (1,2,3,4,5)"
   ]
  },
  {
   "cell_type": "code",
   "execution_count": 45,
   "id": "f4970bde-fc97-46b3-b1c4-e5626ff87725",
   "metadata": {},
   "outputs": [
    {
     "data": {
      "text/plain": [
       "(1, 2, 3, 4, 5)"
      ]
     },
     "execution_count": 45,
     "metadata": {},
     "output_type": "execute_result"
    }
   ],
   "source": [
    "tuple"
   ]
  },
  {
   "cell_type": "code",
   "execution_count": 46,
   "id": "7541ff50-f2fe-4bf1-a5cc-657a8278fbb9",
   "metadata": {},
   "outputs": [],
   "source": [
    "arr_tuple = np.array(tuple)"
   ]
  },
  {
   "cell_type": "code",
   "execution_count": 47,
   "id": "d00c53df-5f92-46ad-a957-30ba28abb62e",
   "metadata": {},
   "outputs": [
    {
     "data": {
      "text/plain": [
       "array([1, 2, 3, 4, 5])"
      ]
     },
     "execution_count": 47,
     "metadata": {},
     "output_type": "execute_result"
    }
   ],
   "source": [
    "arr_tuple"
   ]
  },
  {
   "cell_type": "code",
   "execution_count": 48,
   "id": "ef3c41a5-7d26-4db9-87f5-b4d795496629",
   "metadata": {},
   "outputs": [],
   "source": [
    "nums = [[1,2,3],[4,5,6]]"
   ]
  },
  {
   "cell_type": "code",
   "execution_count": 49,
   "id": "5bc610bb-a038-4010-b039-5e6733ee2a38",
   "metadata": {},
   "outputs": [],
   "source": [
    "multi = np.array(nums)"
   ]
  },
  {
   "cell_type": "code",
   "execution_count": 50,
   "id": "3a4ebaf4-7512-43f2-9c4a-d1169ec5011b",
   "metadata": {},
   "outputs": [
    {
     "data": {
      "text/plain": [
       "array([[1, 2, 3],\n",
       "       [4, 5, 6]])"
      ]
     },
     "execution_count": 50,
     "metadata": {},
     "output_type": "execute_result"
    }
   ],
   "source": [
    "multi"
   ]
  },
  {
   "cell_type": "code",
   "execution_count": 51,
   "id": "03c2fda2-e60d-4c64-8055-b66592726e75",
   "metadata": {},
   "outputs": [
    {
     "data": {
      "text/plain": [
       "2"
      ]
     },
     "execution_count": 51,
     "metadata": {},
     "output_type": "execute_result"
    }
   ],
   "source": [
    "multi.ndim"
   ]
  },
  {
   "cell_type": "markdown",
   "id": "7d3a8e75-6e4d-4092-a43c-abb0738a1d81",
   "metadata": {},
   "source": [
    "# instrinsic array creation"
   ]
  },
  {
   "cell_type": "code",
   "execution_count": 52,
   "id": "7f5bce3a-77d6-4321-b10e-4dea743a6279",
   "metadata": {},
   "outputs": [],
   "source": [
    "arr = np.arange(10)"
   ]
  },
  {
   "cell_type": "code",
   "execution_count": 53,
   "id": "cb418720-9f42-48f5-8cae-51d96ce42c71",
   "metadata": {},
   "outputs": [
    {
     "data": {
      "text/plain": [
       "array([0, 1, 2, 3, 4, 5, 6, 7, 8, 9])"
      ]
     },
     "execution_count": 53,
     "metadata": {},
     "output_type": "execute_result"
    }
   ],
   "source": [
    "arr"
   ]
  },
  {
   "cell_type": "code",
   "execution_count": 54,
   "id": "ad7e9c62-828c-40c8-917e-3ec6ca38c5e9",
   "metadata": {},
   "outputs": [],
   "source": [
    "arr = np.arange(0,101,2)"
   ]
  },
  {
   "cell_type": "code",
   "execution_count": 55,
   "id": "38b67177-576b-4342-a592-9df0315f064a",
   "metadata": {},
   "outputs": [
    {
     "data": {
      "text/plain": [
       "array([  0,   2,   4,   6,   8,  10,  12,  14,  16,  18,  20,  22,  24,\n",
       "        26,  28,  30,  32,  34,  36,  38,  40,  42,  44,  46,  48,  50,\n",
       "        52,  54,  56,  58,  60,  62,  64,  66,  68,  70,  72,  74,  76,\n",
       "        78,  80,  82,  84,  86,  88,  90,  92,  94,  96,  98, 100])"
      ]
     },
     "execution_count": 55,
     "metadata": {},
     "output_type": "execute_result"
    }
   ],
   "source": [
    "arr"
   ]
  },
  {
   "cell_type": "code",
   "execution_count": 56,
   "id": "aef5d6f0-8ca2-4136-9e4e-824c6bf687c6",
   "metadata": {},
   "outputs": [],
   "source": [
    "# for float numbers"
   ]
  },
  {
   "cell_type": "code",
   "execution_count": 57,
   "id": "5526267c-6a8f-4344-b6ae-ee36e0b3f2a5",
   "metadata": {},
   "outputs": [],
   "source": [
    "arr = np.linspace(10,20,5)"
   ]
  },
  {
   "cell_type": "code",
   "execution_count": 58,
   "id": "3a201bbd-b144-44f6-b7b0-207d3c142247",
   "metadata": {},
   "outputs": [
    {
     "data": {
      "text/plain": [
       "array([10. , 12.5, 15. , 17.5, 20. ])"
      ]
     },
     "execution_count": 58,
     "metadata": {},
     "output_type": "execute_result"
    }
   ],
   "source": [
    "arr"
   ]
  },
  {
   "cell_type": "code",
   "execution_count": 59,
   "id": "577c950f-af1a-45a4-af47-7569a1759094",
   "metadata": {},
   "outputs": [],
   "source": [
    "arr = np.linspace(10,20,10)"
   ]
  },
  {
   "cell_type": "code",
   "execution_count": 60,
   "id": "9da2fee1-e985-46dd-a038-240c900dc90a",
   "metadata": {},
   "outputs": [
    {
     "data": {
      "text/plain": [
       "array([10.        , 11.11111111, 12.22222222, 13.33333333, 14.44444444,\n",
       "       15.55555556, 16.66666667, 17.77777778, 18.88888889, 20.        ])"
      ]
     },
     "execution_count": 60,
     "metadata": {},
     "output_type": "execute_result"
    }
   ],
   "source": [
    "arr"
   ]
  },
  {
   "cell_type": "code",
   "execution_count": 61,
   "id": "269e21f0-25db-4a2b-9d96-57d6bd06e8ef",
   "metadata": {},
   "outputs": [],
   "source": [
    "arr = np.linspace(10,20,9)"
   ]
  },
  {
   "cell_type": "code",
   "execution_count": 62,
   "id": "d7923da9-d672-435a-90eb-4cb0f3cb3f17",
   "metadata": {},
   "outputs": [
    {
     "data": {
      "text/plain": [
       "array([10.  , 11.25, 12.5 , 13.75, 15.  , 16.25, 17.5 , 18.75, 20.  ])"
      ]
     },
     "execution_count": 62,
     "metadata": {},
     "output_type": "execute_result"
    }
   ],
   "source": [
    "arr"
   ]
  },
  {
   "cell_type": "markdown",
   "id": "3517e4ec-6d6e-4068-9046-17335e389011",
   "metadata": {},
   "source": [
    "# random numbers"
   ]
  },
  {
   "cell_type": "code",
   "execution_count": 64,
   "id": "f4fe10aa-0e68-4b86-9016-81eb1b8d9369",
   "metadata": {},
   "outputs": [],
   "source": [
    "arr = np.random.rand(10)"
   ]
  },
  {
   "cell_type": "code",
   "execution_count": 65,
   "id": "31e8d5e0-cddb-415a-abe1-8d12f32c69a3",
   "metadata": {},
   "outputs": [
    {
     "data": {
      "text/plain": [
       "array([0.33010566, 0.61667074, 0.33949083, 0.54940458, 0.52344035,\n",
       "       0.13916058, 0.9023568 , 0.53977625, 0.71968996, 0.40588172])"
      ]
     },
     "execution_count": 65,
     "metadata": {},
     "output_type": "execute_result"
    }
   ],
   "source": [
    "arr"
   ]
  },
  {
   "cell_type": "code",
   "execution_count": 66,
   "id": "d1b70126-5d5e-473d-adae-5be6989d22a1",
   "metadata": {},
   "outputs": [],
   "source": [
    "# creating 2D array from rand"
   ]
  },
  {
   "cell_type": "code",
   "execution_count": 67,
   "id": "28355b21-045a-4e16-9f57-7d9c624aecc9",
   "metadata": {},
   "outputs": [],
   "source": [
    "arr = np.random.rand(10,2)"
   ]
  },
  {
   "cell_type": "code",
   "execution_count": 68,
   "id": "72706674-ed13-48dc-b38f-9f68ab6d261d",
   "metadata": {},
   "outputs": [
    {
     "data": {
      "text/plain": [
       "array([[0.26905023, 0.2914957 ],\n",
       "       [0.58552076, 0.50036461],\n",
       "       [0.17187893, 0.13088973],\n",
       "       [0.15819222, 0.10933283],\n",
       "       [0.68692784, 0.06924154],\n",
       "       [0.48081713, 0.72019207],\n",
       "       [0.43968355, 0.38690784],\n",
       "       [0.28247945, 0.14234091],\n",
       "       [0.08471637, 0.48532853],\n",
       "       [0.40432035, 0.93231942]])"
      ]
     },
     "execution_count": 68,
     "metadata": {},
     "output_type": "execute_result"
    }
   ],
   "source": [
    "arr"
   ]
  },
  {
   "cell_type": "code",
   "execution_count": 69,
   "id": "9e89b66c-1f67-43a1-b3d3-01e64cc2c4f2",
   "metadata": {},
   "outputs": [],
   "source": [
    "arr = np.random.rand(10,3)"
   ]
  },
  {
   "cell_type": "code",
   "execution_count": 70,
   "id": "60b7750e-100f-4fe7-951a-b1189e7bac26",
   "metadata": {},
   "outputs": [
    {
     "data": {
      "text/plain": [
       "array([[0.15561418, 0.92411978, 0.55525432],\n",
       "       [0.00362324, 0.70337972, 0.66764207],\n",
       "       [0.77130337, 0.37703808, 0.27120144],\n",
       "       [0.97224778, 0.41010017, 0.58525065],\n",
       "       [0.14251286, 0.51395975, 0.37622159],\n",
       "       [0.3190198 , 0.58791844, 0.91785773],\n",
       "       [0.02440738, 0.12965153, 0.74938014],\n",
       "       [0.78608855, 0.30605175, 0.87358386],\n",
       "       [0.46399805, 0.54478416, 0.11270839],\n",
       "       [0.63674552, 0.71233706, 0.54049996]])"
      ]
     },
     "execution_count": 70,
     "metadata": {},
     "output_type": "execute_result"
    }
   ],
   "source": [
    "arr"
   ]
  },
  {
   "cell_type": "code",
   "execution_count": 71,
   "id": "71ba8c64-a88d-4edc-a3c5-a2d3a850fa46",
   "metadata": {},
   "outputs": [],
   "source": [
    "arr = np.random.rand(10,2,2)"
   ]
  },
  {
   "cell_type": "code",
   "execution_count": 72,
   "id": "4a4fd2be-429d-4f27-9d4f-27fa99fb61d8",
   "metadata": {},
   "outputs": [
    {
     "data": {
      "text/plain": [
       "array([[[0.26409772, 0.40686352],\n",
       "        [0.46013032, 0.49106238]],\n",
       "\n",
       "       [[0.92295207, 0.30744045],\n",
       "        [0.53450092, 0.69714939]],\n",
       "\n",
       "       [[0.68408547, 0.39820303],\n",
       "        [0.24084966, 0.9144369 ]],\n",
       "\n",
       "       [[0.75980174, 0.00228606],\n",
       "        [0.71501141, 0.67990911]],\n",
       "\n",
       "       [[0.22607498, 0.52371752],\n",
       "        [0.65431962, 0.01261726]],\n",
       "\n",
       "       [[0.70860715, 0.91887641],\n",
       "        [0.29419158, 0.63045025]],\n",
       "\n",
       "       [[0.4253668 , 0.74495176],\n",
       "        [0.37972194, 0.0677333 ]],\n",
       "\n",
       "       [[0.40123883, 0.19444088],\n",
       "        [0.3643852 , 0.41476236]],\n",
       "\n",
       "       [[0.19389584, 0.39809092],\n",
       "        [0.36394853, 0.66247984]],\n",
       "\n",
       "       [[0.62043327, 0.92432011],\n",
       "        [0.92798144, 0.10480371]]])"
      ]
     },
     "execution_count": 72,
     "metadata": {},
     "output_type": "execute_result"
    }
   ],
   "source": [
    "arr"
   ]
  },
  {
   "cell_type": "code",
   "execution_count": 43,
   "id": "e4f95d71-38a0-4763-9aba-37d26dca1655",
   "metadata": {},
   "outputs": [],
   "source": [
    "# numpy.random.randint(low, high=None, size=None, dtype=int)"
   ]
  },
  {
   "cell_type": "code",
   "execution_count": null,
   "id": "8c5d801d-00e6-4f7b-b3ab-393aa200c225",
   "metadata": {},
   "outputs": [],
   "source": [
    "arr = np.random.randint(0, 4, 3)"
   ]
  },
  {
   "cell_type": "code",
   "execution_count": 44,
   "id": "d1afb3eb-f8b7-4b0d-a87e-989590c648e5",
   "metadata": {},
   "outputs": [
    {
     "data": {
      "text/plain": [
       "array([3, 3, 0])"
      ]
     },
     "execution_count": 44,
     "metadata": {},
     "output_type": "execute_result"
    }
   ],
   "source": [
    "arr"
   ]
  },
  {
   "cell_type": "markdown",
   "id": "288a731d-515f-41d7-8756-3f7f792424a4",
   "metadata": {},
   "source": [
    "# Creating arrays with constant values"
   ]
  },
  {
   "cell_type": "code",
   "execution_count": 5,
   "id": "0242e3fa-7fa9-4b31-ac84-6891d2a1fd06",
   "metadata": {},
   "outputs": [],
   "source": [
    "zeroes = np.zeros(5)"
   ]
  },
  {
   "cell_type": "code",
   "execution_count": 6,
   "id": "fb97ff68-1487-4007-8043-4e98cc3db837",
   "metadata": {},
   "outputs": [
    {
     "data": {
      "text/plain": [
       "array([0., 0., 0., 0., 0.])"
      ]
     },
     "execution_count": 6,
     "metadata": {},
     "output_type": "execute_result"
    }
   ],
   "source": [
    "zeroes"
   ]
  },
  {
   "cell_type": "code",
   "execution_count": 7,
   "id": "83eb9f33-6384-4878-9bb8-7cd9b05f90d4",
   "metadata": {},
   "outputs": [
    {
     "data": {
      "text/plain": [
       "dtype('float64')"
      ]
     },
     "execution_count": 7,
     "metadata": {},
     "output_type": "execute_result"
    }
   ],
   "source": [
    "zeroes.dtype"
   ]
  },
  {
   "cell_type": "code",
   "execution_count": 8,
   "id": "d63a93f0-68dd-4668-b420-22a9d6094a1f",
   "metadata": {},
   "outputs": [],
   "source": [
    "zeroes = np.zeros(5,dtype = 'int8')"
   ]
  },
  {
   "cell_type": "code",
   "execution_count": 9,
   "id": "ec9a4a3b-1e2f-47eb-a568-20f9b1688003",
   "metadata": {},
   "outputs": [
    {
     "data": {
      "text/plain": [
       "array([0, 0, 0, 0, 0], dtype=int8)"
      ]
     },
     "execution_count": 9,
     "metadata": {},
     "output_type": "execute_result"
    }
   ],
   "source": [
    "zeroes"
   ]
  },
  {
   "cell_type": "code",
   "execution_count": 10,
   "id": "7eba84ed-b120-4cf4-ae4f-90d76732c942",
   "metadata": {},
   "outputs": [
    {
     "data": {
      "text/plain": [
       "dtype('int8')"
      ]
     },
     "execution_count": 10,
     "metadata": {},
     "output_type": "execute_result"
    }
   ],
   "source": [
    "zeroes.dtype"
   ]
  },
  {
   "cell_type": "code",
   "execution_count": 11,
   "id": "ab68d31c-9aa7-48e1-a8e4-945aae4f80ee",
   "metadata": {},
   "outputs": [],
   "source": [
    "# for ones"
   ]
  },
  {
   "cell_type": "code",
   "execution_count": 12,
   "id": "1d8d8d00-bd13-44ab-87e1-0daca150c95e",
   "metadata": {},
   "outputs": [],
   "source": [
    "arr = np.ones(5)"
   ]
  },
  {
   "cell_type": "code",
   "execution_count": 13,
   "id": "d1c50967-362a-49dc-882e-6379fc9c2d32",
   "metadata": {},
   "outputs": [
    {
     "data": {
      "text/plain": [
       "array([1., 1., 1., 1., 1.])"
      ]
     },
     "execution_count": 13,
     "metadata": {},
     "output_type": "execute_result"
    }
   ],
   "source": [
    "arr"
   ]
  },
  {
   "cell_type": "code",
   "execution_count": 14,
   "id": "96a3a39e-258d-4f31-8e39-2a2cce7c8ded",
   "metadata": {},
   "outputs": [],
   "source": [
    "arr = np.ones(5, dtype = 'int8')"
   ]
  },
  {
   "cell_type": "code",
   "execution_count": 15,
   "id": "d7abb46a-1ef7-425f-8943-fb704f73039b",
   "metadata": {},
   "outputs": [
    {
     "data": {
      "text/plain": [
       "array([1, 1, 1, 1, 1], dtype=int8)"
      ]
     },
     "execution_count": 15,
     "metadata": {},
     "output_type": "execute_result"
    }
   ],
   "source": [
    "arr"
   ]
  },
  {
   "cell_type": "code",
   "execution_count": 19,
   "id": "3657a3fc-56d0-4f48-9a4f-c3777169e7d7",
   "metadata": {},
   "outputs": [],
   "source": [
    "# creating multi-D arrays\n",
    "arr = np.ones((5,2))"
   ]
  },
  {
   "cell_type": "code",
   "execution_count": 20,
   "id": "4c96b72a-1922-478d-8224-ec2fd58363f4",
   "metadata": {},
   "outputs": [
    {
     "data": {
      "text/plain": [
       "array([[1., 1.],\n",
       "       [1., 1.],\n",
       "       [1., 1.],\n",
       "       [1., 1.],\n",
       "       [1., 1.]])"
      ]
     },
     "execution_count": 20,
     "metadata": {},
     "output_type": "execute_result"
    }
   ],
   "source": [
    "arr"
   ]
  },
  {
   "cell_type": "code",
   "execution_count": 21,
   "id": "8f5ff633-eec0-40b3-a415-bbf417fc5175",
   "metadata": {},
   "outputs": [],
   "source": [
    "# creating empty array"
   ]
  },
  {
   "cell_type": "code",
   "execution_count": 22,
   "id": "069206c6-a1ad-4d8c-b85a-334691c91f0e",
   "metadata": {},
   "outputs": [],
   "source": [
    "arr = np.empty(5, dtype = 'int8')"
   ]
  },
  {
   "cell_type": "code",
   "execution_count": 23,
   "id": "6d31b312-0313-4d86-b283-18ff23383f0f",
   "metadata": {},
   "outputs": [
    {
     "data": {
      "text/plain": [
       "array([ 72, 108, 108, 101, 114], dtype=int8)"
      ]
     },
     "execution_count": 23,
     "metadata": {},
     "output_type": "execute_result"
    }
   ],
   "source": [
    "arr"
   ]
  },
  {
   "cell_type": "code",
   "execution_count": 24,
   "id": "295f6205-a450-4ffe-8de9-a3f0dc3ed11e",
   "metadata": {},
   "outputs": [],
   "source": [
    "arr.fill(2)"
   ]
  },
  {
   "cell_type": "code",
   "execution_count": 25,
   "id": "4a3592bc-f179-4c31-8149-24aa4a9aba89",
   "metadata": {},
   "outputs": [
    {
     "data": {
      "text/plain": [
       "array([2, 2, 2, 2, 2], dtype=int8)"
      ]
     },
     "execution_count": 25,
     "metadata": {},
     "output_type": "execute_result"
    }
   ],
   "source": [
    "arr"
   ]
  },
  {
   "cell_type": "code",
   "execution_count": 30,
   "id": "9bb59036-4cba-4c12-ac97-0ea2c321e113",
   "metadata": {},
   "outputs": [],
   "source": [
    "arr = np.empty((5,2), dtype = 'int8')"
   ]
  },
  {
   "cell_type": "code",
   "execution_count": 31,
   "id": "f35c028c-0910-47b6-8bd7-3c777c40a93a",
   "metadata": {},
   "outputs": [
    {
     "data": {
      "text/plain": [
       "array([[ 112, -128],\n",
       "       [ -96,  -98],\n",
       "       [  48,    2],\n",
       "       [   0,    0],\n",
       "       [   0,    0]], dtype=int8)"
      ]
     },
     "execution_count": 31,
     "metadata": {},
     "output_type": "execute_result"
    }
   ],
   "source": [
    "arr"
   ]
  },
  {
   "cell_type": "code",
   "execution_count": 32,
   "id": "637c1df6-8943-4c77-9e77-db1bcb2b1ea9",
   "metadata": {},
   "outputs": [],
   "source": [
    "arr.fill(-1)"
   ]
  },
  {
   "cell_type": "code",
   "execution_count": 33,
   "id": "09ee7bdb-610b-41e3-9f7b-ee8323794537",
   "metadata": {},
   "outputs": [
    {
     "data": {
      "text/plain": [
       "array([[-1, -1],\n",
       "       [-1, -1],\n",
       "       [-1, -1],\n",
       "       [-1, -1],\n",
       "       [-1, -1]], dtype=int8)"
      ]
     },
     "execution_count": 33,
     "metadata": {},
     "output_type": "execute_result"
    }
   ],
   "source": [
    "arr"
   ]
  },
  {
   "cell_type": "code",
   "execution_count": 34,
   "id": "37e8b7b4-7187-474d-a03c-1e20aad0984c",
   "metadata": {},
   "outputs": [],
   "source": [
    "multi = np.full((5,2),10)"
   ]
  },
  {
   "cell_type": "code",
   "execution_count": 35,
   "id": "5079d1f6-3f70-44ed-99f0-87945cd7c3ca",
   "metadata": {},
   "outputs": [
    {
     "data": {
      "text/plain": [
       "array([[10, 10],\n",
       "       [10, 10],\n",
       "       [10, 10],\n",
       "       [10, 10],\n",
       "       [10, 10]])"
      ]
     },
     "execution_count": 35,
     "metadata": {},
     "output_type": "execute_result"
    }
   ],
   "source": [
    "multi"
   ]
  },
  {
   "cell_type": "code",
   "execution_count": 38,
   "id": "68bd16ca-364f-46b3-bcc2-2e1f4262449c",
   "metadata": {},
   "outputs": [
    {
     "data": {
      "text/plain": [
       "(5, 2)"
      ]
     },
     "execution_count": 38,
     "metadata": {},
     "output_type": "execute_result"
    }
   ],
   "source": [
    "# 5 rows and 2 columns\n",
    "multi.shape"
   ]
  },
  {
   "cell_type": "code",
   "execution_count": 39,
   "id": "9ea59732-e8c9-4a30-b041-dab13fce9ab8",
   "metadata": {},
   "outputs": [
    {
     "data": {
      "text/plain": [
       "10"
      ]
     },
     "execution_count": 39,
     "metadata": {},
     "output_type": "execute_result"
    }
   ],
   "source": [
    "multi.size"
   ]
  },
  {
   "cell_type": "code",
   "execution_count": 40,
   "id": "9ef5d497-a7ad-48ff-9028-4eab84fe36a3",
   "metadata": {},
   "outputs": [],
   "source": [
    "arr = np.random.randint(0, 4, 3)"
   ]
  },
  {
   "cell_type": "code",
   "execution_count": 41,
   "id": "6617d6d5-c986-4def-8663-8c8cd9b9eaa6",
   "metadata": {},
   "outputs": [
    {
     "data": {
      "text/plain": [
       "array([3, 3, 0])"
      ]
     },
     "execution_count": 41,
     "metadata": {},
     "output_type": "execute_result"
    }
   ],
   "source": [
    "arr"
   ]
  },
  {
   "cell_type": "markdown",
   "id": "a5e7ab55-2bc7-46bf-bc44-f4b301031982",
   "metadata": {},
   "source": [
    "# adding, deleting and sorting numbers"
   ]
  },
  {
   "cell_type": "code",
   "execution_count": 45,
   "id": "99a2f40d-a4fc-43fd-bd1a-6227569f051f",
   "metadata": {},
   "outputs": [],
   "source": [
    "arr = np.array([10,32,2,0,56])"
   ]
  },
  {
   "cell_type": "code",
   "execution_count": 46,
   "id": "29352f70-2844-4bb3-a4c9-2844d677a63e",
   "metadata": {},
   "outputs": [
    {
     "data": {
      "text/plain": [
       "array([10, 32,  2,  0, 56])"
      ]
     },
     "execution_count": 46,
     "metadata": {},
     "output_type": "execute_result"
    }
   ],
   "source": [
    "arr"
   ]
  },
  {
   "cell_type": "code",
   "execution_count": 48,
   "id": "291ce495-3b63-4141-a016-84482249c813",
   "metadata": {},
   "outputs": [],
   "source": [
    "arr = np.append(arr,132)"
   ]
  },
  {
   "cell_type": "code",
   "execution_count": 49,
   "id": "cbb48041-d0ba-406a-9734-29da9c42b742",
   "metadata": {},
   "outputs": [
    {
     "data": {
      "text/plain": [
       "array([ 10,  32,   2,   0,  56, 132])"
      ]
     },
     "execution_count": 49,
     "metadata": {},
     "output_type": "execute_result"
    }
   ],
   "source": [
    "arr"
   ]
  },
  {
   "cell_type": "code",
   "execution_count": 50,
   "id": "3935dd97-01df-4bf8-bbc6-0cfc25bc6256",
   "metadata": {},
   "outputs": [
    {
     "data": {
      "text/plain": [
       "array([ 10,  32,   2,   0,  56, 132, 164])"
      ]
     },
     "execution_count": 50,
     "metadata": {},
     "output_type": "execute_result"
    }
   ],
   "source": [
    "np.append(arr,164)"
   ]
  },
  {
   "cell_type": "code",
   "execution_count": 51,
   "id": "3b4a3435-8bb9-4844-ad3a-9fc6c9778a57",
   "metadata": {},
   "outputs": [
    {
     "data": {
      "text/plain": [
       "array([ 10,  32,   2,   0,  56, 132])"
      ]
     },
     "execution_count": 51,
     "metadata": {},
     "output_type": "execute_result"
    }
   ],
   "source": [
    "arr"
   ]
  },
  {
   "cell_type": "code",
   "execution_count": 58,
   "id": "1a68d86e-9b70-4311-ada9-d31f7814c944",
   "metadata": {},
   "outputs": [],
   "source": [
    "# insert at index = 6\n",
    "arr = np.insert(arr,6,164)"
   ]
  },
  {
   "cell_type": "code",
   "execution_count": 59,
   "id": "8dc5ee54-d269-43a7-b04d-bdfa2b157072",
   "metadata": {},
   "outputs": [
    {
     "data": {
      "text/plain": [
       "array([ 10,  32,   2,   0,  56, 132, 164])"
      ]
     },
     "execution_count": 59,
     "metadata": {},
     "output_type": "execute_result"
    }
   ],
   "source": [
    "arr"
   ]
  },
  {
   "cell_type": "code",
   "execution_count": 60,
   "id": "b75bb947-ffc6-4ab2-a316-b813b5991242",
   "metadata": {},
   "outputs": [],
   "source": [
    "# delete at index = 6\n",
    "arr = np.delete(arr,6)"
   ]
  },
  {
   "cell_type": "code",
   "execution_count": 61,
   "id": "5a063970-b965-4f54-8ea4-7922a92c4d58",
   "metadata": {},
   "outputs": [
    {
     "data": {
      "text/plain": [
       "array([ 10,  32,   2,   0,  56, 132])"
      ]
     },
     "execution_count": 61,
     "metadata": {},
     "output_type": "execute_result"
    }
   ],
   "source": [
    "arr"
   ]
  },
  {
   "cell_type": "code",
   "execution_count": 62,
   "id": "6f7e86f4-6566-4a87-948f-e14b2bae16b7",
   "metadata": {},
   "outputs": [],
   "source": [
    "# sorting"
   ]
  },
  {
   "cell_type": "code",
   "execution_count": 65,
   "id": "050480ad-b009-4f65-a77a-b69cae33fe47",
   "metadata": {},
   "outputs": [
    {
     "data": {
      "text/plain": [
       "array([  0,   2,  10,  32,  56, 132])"
      ]
     },
     "execution_count": 65,
     "metadata": {},
     "output_type": "execute_result"
    }
   ],
   "source": [
    "np.sort(arr)"
   ]
  },
  {
   "cell_type": "code",
   "execution_count": 64,
   "id": "12742f55-4104-48e1-9f7e-b5889ecd824f",
   "metadata": {},
   "outputs": [
    {
     "name": "stdout",
     "output_type": "stream",
     "text": [
      "[132  56  32  10   2   0]\n"
     ]
    }
   ],
   "source": [
    "print(np.sort(arr)[::-1])"
   ]
  },
  {
   "cell_type": "code",
   "execution_count": 67,
   "id": "96b9d2a1-da24-4351-a6f2-0bf5861edbbd",
   "metadata": {},
   "outputs": [],
   "source": [
    "# copy of arr"
   ]
  },
  {
   "cell_type": "code",
   "execution_count": 68,
   "id": "f1d469f7-8eab-4e48-99a9-e2ed97f42c0d",
   "metadata": {},
   "outputs": [],
   "source": [
    "arr_copy = arr.copy()"
   ]
  },
  {
   "cell_type": "code",
   "execution_count": 69,
   "id": "504ba904-e119-4850-8501-381d252af16a",
   "metadata": {},
   "outputs": [
    {
     "data": {
      "text/plain": [
       "array([ 10,  32,   2,   0,  56, 132])"
      ]
     },
     "execution_count": 69,
     "metadata": {},
     "output_type": "execute_result"
    }
   ],
   "source": [
    "arr_copy"
   ]
  },
  {
   "cell_type": "code",
   "execution_count": 71,
   "id": "e03f5810-078e-4914-a745-b5f0ec3efebd",
   "metadata": {},
   "outputs": [],
   "source": [
    "# views, it creates a another reference to same array, changing one array will reflect in other too because both are same"
   ]
  },
  {
   "cell_type": "code",
   "execution_count": 72,
   "id": "f29713b8-7b4e-41e1-99ab-dfc91c34a64d",
   "metadata": {},
   "outputs": [],
   "source": [
    "arr1 = arr.view()"
   ]
  },
  {
   "cell_type": "code",
   "execution_count": 75,
   "id": "b67a6ad1-4dad-4182-9a0e-6ab6c9e2bdd8",
   "metadata": {},
   "outputs": [
    {
     "name": "stdout",
     "output_type": "stream",
     "text": [
      "10 10\n"
     ]
    }
   ],
   "source": [
    "print(arr[0],arr1[0])"
   ]
  },
  {
   "cell_type": "code",
   "execution_count": 76,
   "id": "ef221503-601f-49d2-8d39-b3d30d36a8c3",
   "metadata": {},
   "outputs": [],
   "source": [
    "arr1[0] = 101"
   ]
  },
  {
   "cell_type": "code",
   "execution_count": 77,
   "id": "b700232f-9e69-4d51-a55d-eeae77093dbc",
   "metadata": {},
   "outputs": [
    {
     "name": "stdout",
     "output_type": "stream",
     "text": [
      "101 101\n"
     ]
    }
   ],
   "source": [
    "print(arr[0],arr1[0])"
   ]
  },
  {
   "cell_type": "markdown",
   "id": "dbab55b3-8fce-4c33-8839-99a2b6bb191d",
   "metadata": {},
   "source": [
    "# reshaping arrays "
   ]
  },
  {
   "cell_type": "code",
   "execution_count": 83,
   "id": "27f1cd5a-b1c3-4620-abf4-ea33708514ff",
   "metadata": {},
   "outputs": [],
   "source": [
    "arr = np.arange(0,10)"
   ]
  },
  {
   "cell_type": "code",
   "execution_count": 84,
   "id": "b5469598-6176-4536-8194-1987843d1700",
   "metadata": {},
   "outputs": [
    {
     "data": {
      "text/plain": [
       "array([0, 1, 2, 3, 4, 5, 6, 7, 8, 9])"
      ]
     },
     "execution_count": 84,
     "metadata": {},
     "output_type": "execute_result"
    }
   ],
   "source": [
    "arr"
   ]
  },
  {
   "cell_type": "code",
   "execution_count": 85,
   "id": "40114ef5-9fd1-42a2-a0cc-fe335a67e572",
   "metadata": {},
   "outputs": [],
   "source": [
    "arr1 = arr.reshape((2,5))"
   ]
  },
  {
   "cell_type": "code",
   "execution_count": 86,
   "id": "9aae0641-b279-4225-bab7-82050737c3f6",
   "metadata": {},
   "outputs": [
    {
     "data": {
      "text/plain": [
       "array([[0, 1, 2, 3, 4],\n",
       "       [5, 6, 7, 8, 9]])"
      ]
     },
     "execution_count": 86,
     "metadata": {},
     "output_type": "execute_result"
    }
   ],
   "source": [
    "arr1"
   ]
  },
  {
   "cell_type": "code",
   "execution_count": 87,
   "id": "b0a4acd6-0a2c-4732-8633-0a39b9752db3",
   "metadata": {},
   "outputs": [],
   "source": [
    "# In NumPy, the flatten() function is used to return a copy of the array collapsed into one dimension.\n",
    "# It returns a new one-dimensional array containing all the elements of the original array in the same order"
   ]
  },
  {
   "cell_type": "code",
   "execution_count": 88,
   "id": "df6b2075-97bd-4acb-b0d1-700971b53dc4",
   "metadata": {},
   "outputs": [],
   "source": [
    "arr = np.ones((5,2))"
   ]
  },
  {
   "cell_type": "code",
   "execution_count": 89,
   "id": "cbe2e50a-4773-461c-9fc0-cfdd5c829e61",
   "metadata": {},
   "outputs": [
    {
     "data": {
      "text/plain": [
       "array([[1., 1.],\n",
       "       [1., 1.],\n",
       "       [1., 1.],\n",
       "       [1., 1.],\n",
       "       [1., 1.]])"
      ]
     },
     "execution_count": 89,
     "metadata": {},
     "output_type": "execute_result"
    }
   ],
   "source": [
    "arr"
   ]
  },
  {
   "cell_type": "code",
   "execution_count": 91,
   "id": "3f1a716e-9934-486e-befd-f7d95fc6d408",
   "metadata": {},
   "outputs": [],
   "source": [
    "arr1 = arr.flatten()"
   ]
  },
  {
   "cell_type": "code",
   "execution_count": 92,
   "id": "3008909d-bd7d-478c-bc13-23ce1a7cbb0d",
   "metadata": {},
   "outputs": [
    {
     "data": {
      "text/plain": [
       "array([1., 1., 1., 1., 1., 1., 1., 1., 1., 1.])"
      ]
     },
     "execution_count": 92,
     "metadata": {},
     "output_type": "execute_result"
    }
   ],
   "source": [
    "arr1"
   ]
  },
  {
   "cell_type": "code",
   "execution_count": 94,
   "id": "ebcd23b5-446d-47b0-9363-9c78bdcf1edb",
   "metadata": {},
   "outputs": [],
   "source": [
    "# In NumPy, the ravel() function also flattens multi-dimensional arrays into a one-dimensional array, \n",
    "# but it returns a flattened view of the original array whenever possible, rather than a copy like flatten()."
   ]
  },
  {
   "cell_type": "code",
   "execution_count": 95,
   "id": "40e2b555-9560-48fa-8855-75283411ee93",
   "metadata": {},
   "outputs": [],
   "source": [
    "arr1 = arr.ravel()"
   ]
  },
  {
   "cell_type": "code",
   "execution_count": 97,
   "id": "37d1ad4f-6898-4d82-b5e9-1ee06e9b8139",
   "metadata": {},
   "outputs": [
    {
     "data": {
      "text/plain": [
       "array([1., 1., 1., 1., 1., 1., 1., 1., 1., 1.])"
      ]
     },
     "execution_count": 97,
     "metadata": {},
     "output_type": "execute_result"
    }
   ],
   "source": [
    "arr1"
   ]
  },
  {
   "cell_type": "markdown",
   "id": "476c3b93-0da5-44bb-9f35-4660c587bd4a",
   "metadata": {},
   "source": [
    "# joining and splitting arrays"
   ]
  },
  {
   "cell_type": "code",
   "execution_count": 104,
   "id": "0008a00f-d047-4d8e-b12c-cd2965421e95",
   "metadata": {},
   "outputs": [],
   "source": [
    "arr1 = np.ones(5,dtype='int8')"
   ]
  },
  {
   "cell_type": "code",
   "execution_count": 105,
   "id": "60c9917b-6221-4efb-8f1b-55ff209a47bd",
   "metadata": {},
   "outputs": [],
   "source": [
    "arr2 = np.zeros(5, dtype='int8')"
   ]
  },
  {
   "cell_type": "code",
   "execution_count": 107,
   "id": "751bea85-8e24-4a92-abbf-cf7c0504ab92",
   "metadata": {},
   "outputs": [],
   "source": [
    "arr3 = np.concatenate((arr1,arr2))"
   ]
  },
  {
   "cell_type": "code",
   "execution_count": 108,
   "id": "d160baac-1e5d-4d8c-9e8c-88909f4e5518",
   "metadata": {},
   "outputs": [
    {
     "data": {
      "text/plain": [
       "array([1, 1, 1, 1, 1, 0, 0, 0, 0, 0], dtype=int8)"
      ]
     },
     "execution_count": 108,
     "metadata": {},
     "output_type": "execute_result"
    }
   ],
   "source": [
    "arr3"
   ]
  },
  {
   "cell_type": "code",
   "execution_count": null,
   "id": "c5846822-1572-4d7c-bf90-e1c9a345d255",
   "metadata": {},
   "outputs": [],
   "source": []
  }
 ],
 "metadata": {
  "kernelspec": {
   "display_name": "Python 3 (ipykernel)",
   "language": "python",
   "name": "python3"
  },
  "language_info": {
   "codemirror_mode": {
    "name": "ipython",
    "version": 3
   },
   "file_extension": ".py",
   "mimetype": "text/x-python",
   "name": "python",
   "nbconvert_exporter": "python",
   "pygments_lexer": "ipython3",
   "version": "3.11.7"
  }
 },
 "nbformat": 4,
 "nbformat_minor": 5
}
